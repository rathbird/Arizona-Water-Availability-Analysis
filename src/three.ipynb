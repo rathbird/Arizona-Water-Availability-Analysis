{
 "metadata": {
  "language_info": {
   "codemirror_mode": {
    "name": "ipython",
    "version": 3
   },
   "file_extension": ".py",
   "mimetype": "text/x-python",
   "name": "python",
   "nbconvert_exporter": "python",
   "pygments_lexer": "ipython3",
   "version": "3.8.8"
  },
  "orig_nbformat": 4,
  "kernelspec": {
   "name": "python3",
   "display_name": "Python 3.8.8 64-bit ('base': conda)"
  },
  "interpreter": {
   "hash": "db924911bb7198fbee505b305f8f47cafea39add78302a22e778e2a226a10bd6"
  }
 },
 "nbformat": 4,
 "nbformat_minor": 2,
 "cells": [
  {
   "cell_type": "code",
   "execution_count": 4,
   "metadata": {},
   "outputs": [],
   "source": [
    "import pandas as pd \n",
    "import numpy as np \n",
    "import matplotlib.pyplot as plt \n",
    "import matplotlib.colors\n",
    "import pylab \n",
    "import scipy.stats as stats\n",
    "from scipy.stats import norm"
   ]
  },
  {
   "cell_type": "code",
   "execution_count": 7,
   "metadata": {},
   "outputs": [],
   "source": [
    "df20 = pd.read_csv('../data/AZGroundWater_20year.csv')\n"
   ]
  },
  {
   "cell_type": "code",
   "execution_count": 8,
   "metadata": {},
   "outputs": [],
   "source": [
    "df10 = pd.read_csv('../data/Groundwater2008_2018.csv')"
   ]
  },
  {
   "cell_type": "code",
   "execution_count": 9,
   "metadata": {},
   "outputs": [],
   "source": [
    "df1 = pd.read_csv('../data/Groundwater2017_2018.csv')"
   ]
  },
  {
   "cell_type": "code",
   "execution_count": 39,
   "metadata": {},
   "outputs": [
    {
     "output_type": "stream",
     "name": "stdout",
     "text": [
      "1245 1024 1235\n"
     ]
    }
   ],
   "source": [
    "print(len(df20),len(df10),len(df1))"
   ]
  },
  {
   "cell_type": "code",
   "execution_count": 6,
   "metadata": {},
   "outputs": [
    {
     "output_type": "stream",
     "name": "stdout",
     "text": [
      "0.46982090154970607 0.6385241872544807\n-0.33389057162410646 0.7384963523766146\n-0.05279432528964205 0.9579000557100855\n"
     ]
    }
   ],
   "source": [
    "t, p = stats.ttest_ind(df20['WL 1998'],df20['WL 2018'], equal_var = False)\n",
    "print(t,p)\n",
    "\n",
    "t08, p08 = stats.ttest_ind(df10['WL 2008'],df10['WL 2018'], equal_var = False)\n",
    "print(t08,p08)\n",
    "\n",
    "t17, p17 = stats.ttest_ind(df1['WL 2017'],df1['WL 2018'], equal_var = False)\n",
    "print(t17,p17)"
   ]
  },
  {
   "cell_type": "code",
   "execution_count": 9,
   "metadata": {},
   "outputs": [
    {
     "output_type": "stream",
     "name": "stdout",
     "text": [
      "0.5823293172690763 0.6240234375 0.5805668016194332\n"
     ]
    }
   ],
   "source": [
    "acc_98 = []\n",
    "acc_08 = []\n",
    "acc_17 = []\n",
    "\n",
    "\n",
    "for i in range(len(df20)):\n",
    "    if df20['WL 1998'][i] < df20['WL 2018'][i]:\n",
    "        acc_98.append(1)\n",
    "    else:\n",
    "        acc_98.append(0)\n",
    "\n",
    "for i in range(len(df10)):    \n",
    "    if df10['WL 2008'][i] < df10['WL 2018'][i]:\n",
    "        acc_08.append(1)\n",
    "    else:\n",
    "        acc_08.append(0)\n",
    "\n",
    "for i in range(len(df1)): \n",
    "    if df1['WL 2017'][i] < df1['WL 2018'][i]:\n",
    "        acc_17.append(1)\n",
    "    else:\n",
    "        acc_17.append(0)\n",
    "\n",
    "print(np.array(acc_98).mean(), np.array(acc_08).mean(), np.array(acc_17).mean())\n"
   ]
  },
  {
   "cell_type": "code",
   "execution_count": 10,
   "metadata": {},
   "outputs": [
    {
     "output_type": "stream",
     "name": "stdout",
     "text": [
      "3769.109999999986 -2734.600000000035 -495.0999999999767\n"
     ]
    }
   ],
   "source": [
    "#sum of level changes\n",
    "\n",
    "lvl20 = df20['WL 1998'].sum() - df20['WL 2018'].sum()\n",
    "lvl10 = df10['WL 2008'].sum() - df10['WL 2018'].sum()\n",
    "lvl1 = df1['WL 2017'].sum() - df1['WL 2018'].sum()\n",
    "\n",
    "print(lvl20,lvl10,lvl1)"
   ]
  },
  {
   "cell_type": "code",
   "execution_count": 11,
   "metadata": {},
   "outputs": [
    {
     "output_type": "stream",
     "name": "stdout",
     "text": [
      "3769.01 -2734.7 -495.0\n"
     ]
    }
   ],
   "source": [
    "lvl20 = df20['WL CHANGE'].sum() \n",
    "lvl10 = df10['WL CHANGE'].sum() \n",
    "lvl1 = df1['WL CHANGE'].sum() \n",
    "\n",
    "print(lvl20,lvl10,lvl1)"
   ]
  },
  {
   "cell_type": "code",
   "execution_count": 17,
   "metadata": {},
   "outputs": [
    {
     "output_type": "stream",
     "name": "stdout",
     "text": [
      "-5458.990000000001\n"
     ]
    }
   ],
   "source": [
    "#what if we took the phoenix AMA out of the dataset\n",
    "wo_phx = df20[df20['BASIN'] != 'PHOENIX AMA']\n",
    "\n",
    "lvl20 = wo_phx['WL CHANGE'].sum() \n",
    "\n",
    "print(lvl20)\n"
   ]
  },
  {
   "cell_type": "code",
   "execution_count": 20,
   "metadata": {},
   "outputs": [
    {
     "output_type": "stream",
     "name": "stdout",
     "text": [
      "-5458.990000000001 -4056.6 -536.8\n"
     ]
    }
   ],
   "source": [
    "lvl20 = df20[df20['BASIN'] != 'PHOENIX AMA']['WL CHANGE'].sum()\n",
    "lvl10 = df10[df10['BASIN'] != 'PHOENIX AMA']['WL CHANGE'].sum()\n",
    "lvl1 = df1[df1['BASIN'] != 'PHOENIX AMA']['WL CHANGE'].sum()\n",
    "\n",
    "print(lvl20,lvl10,lvl1)"
   ]
  },
  {
   "cell_type": "code",
   "execution_count": 38,
   "metadata": {},
   "outputs": [
    {
     "output_type": "stream",
     "name": "stdout",
     "text": [
      "607 797 969\n0.6672158154859967 0.6662484316185696 0.6016511867905057\n"
     ]
    }
   ],
   "source": [
    "acc_98 = []\n",
    "acc_08 = []\n",
    "acc_17 = []\n",
    "\n",
    "wo20 = df20[df20['BASIN'] != 'PHOENIX AMA'].reset_index()\n",
    "wo10 = df10[df10['BASIN'] != 'PHOENIX AMA'].reset_index()\n",
    "wo1 =  df1[df1['BASIN'] != 'PHOENIX AMA'].reset_index()\n",
    "\n",
    "print(len(wo20), len(wo10), len(wo1))\n",
    "\n",
    "for k in range(len(wo20)):\n",
    "    if wo20['WL 1998'][k] < wo20['WL 2018'][k]:\n",
    "        acc_98.append(1)\n",
    "    else:\n",
    "        acc_98.append(0)\n",
    "\n",
    "for i in range(len(wo10)):    \n",
    "    if wo10['WL 2008'][i] < wo10['WL 2018'][i]:\n",
    "        acc_08.append(1)\n",
    "    else:\n",
    "        acc_08.append(0)\n",
    "\n",
    "for i in range(len(wo1)): \n",
    "    if wo1['WL 2017'][i] < wo1['WL 2018'][i]:\n",
    "        acc_17.append(1)\n",
    "    else:\n",
    "        acc_17.append(0)\n",
    "\n",
    "print(np.array(acc_98).mean(), np.array(acc_08).mean(), np.array(acc_17).mean())\n"
   ]
  },
  {
   "cell_type": "code",
   "execution_count": 40,
   "metadata": {},
   "outputs": [
    {
     "output_type": "stream",
     "name": "stdout",
     "text": [
      "-0.8862334581234064 0.37566757200623824\n-0.551543199722504 0.5813387795230088\n-0.06277786608675161 0.9499498719488895\n"
     ]
    }
   ],
   "source": [
    "t, p = stats.ttest_ind(wo20['WL 1998'],wo20['WL 2018'], equal_var = False)\n",
    "print(t,p)\n",
    "\n",
    "t08, p08 = stats.ttest_ind(wo10['WL 2008'],wo10['WL 2018'], equal_var = False)\n",
    "print(t08,p08)\n",
    "\n",
    "t17, p17 = stats.ttest_ind(wo1['WL 2017'],wo1['WL 2018'], equal_var = False)\n",
    "print(t17,p17)"
   ]
  },
  {
   "cell_type": "code",
   "execution_count": null,
   "metadata": {},
   "outputs": [],
   "source": []
  }
 ]
}